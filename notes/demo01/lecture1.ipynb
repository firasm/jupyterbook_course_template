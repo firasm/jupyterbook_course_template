{
  "cells": [
    {
      "cell_type": "markdown",
      "source": [
        "# Introduction to Python"
      ],
      "metadata": {}
    },
    {
      "cell_type": "markdown",
      "source": [
        "In this class, we will watch the first of four lectures by Dr. Mike Gelbart, option co-director of the UBC-Vancouver MDS program."
      ],
      "metadata": {}
    },
    {
      "cell_type": "markdown",
      "source": [
        "<div class=\"container youtube\">\n",
        "<iframe class=\"responsive-iframe\" height=\"350px\" width=\"622px\" src=\"https://www.youtube-nocookie.com/embed/yBAYduexjuA\" frameborder=\"0\" allow=\"accelerometer; autoplay=\"0\"; encrypted-media; gyroscope; picture-in-picture\" allowfullscreen></iframe>\n",
        "</div>"
      ],
      "metadata": {}
    },
    {
      "cell_type": "markdown",
      "source": [
        "## Attribution\n",
        "\n",
        "- The original version of these Python lectures were by [Patrick Walls](https://www.math.ubc.ca/~pwalls/).\n",
        "- These lectures were delivered by [Mike Gelbart](https://mikegelbart.com) and are [available publicly here](https://www.youtube.com/watch?v=yBAYduexjuA)."
      ],
      "metadata": {}
    },
    {
      "cell_type": "markdown",
      "source": [
        "## About this course (5 min)\n",
        "\n",
        "### High-level overview:\n",
        "\n",
        "- The MDS program has a programming prerequisite.\n",
        "- Therefore, this course does not start from \"no programming knowledge\".\n",
        "  - You should know what an `if` statement is.\n",
        "  - You should know what a `for` loop is.\n",
        "  - You should know what a function is.\n",
        "- However, not all of you have used Python/R.\n",
        "- So, this course is about _Python-specific_ and _R-specific_ syntax/knowledge.\n",
        "- We will cover things like loops, but just the syntax, not the concept of a loop.\n",
        "- Weeks 1&2: Python, lectures by Mike Gelbart\n",
        "- Weeks 3&4: R, lectures by Tiffany Timbers"
      ],
      "metadata": {}
    },
    {
      "cell_type": "markdown",
      "source": [
        "## Lecture Outline:\n",
        "\n",
        "- Basic datatypes (20 min)\n",
        "- Lists and tuples (20 min)\n",
        "- Break (5 min)\n",
        "- String methods (5 min)\n",
        "- Dictionaries (10 min)\n",
        "- Conditionals (10 min)"
      ],
      "metadata": {}
    },
    {
      "cell_type": "markdown",
      "source": [
        "## Basic datatypes (20 min)\n",
        "\n",
        "- A **value** is a piece of data that a computer program works with such as a number or text. \n",
        "- There are different **types** of values: `42` is an integer and `\"Hello!\"` is a string. \n",
        "- A **variable** is a name that refers to a value. \n",
        "  - In mathematics and statistics, we usually use variables names like $x$ and $y$. \n",
        "  - In Python, we can use any word as a variable name (as long as it starts with a letter and is not a [reserved word](https://docs.python.org/3.3/reference/lexical_analysis.html#keywords) in Python such as `for`, `while`, `class`, `lambda`, etc.). \n",
        "- And we use the **assignment operator** `=` to assign a value to a variable.\n",
        "\n",
        "See the [Python 3 documentation](https://docs.python.org/3/library/stdtypes.html) for a summary of the standard built-in Python datatypes. See [Think Python (Chapter 2)](http://greenteapress.com/thinkpython/html/thinkpython003.html) for a discussion of variables, expressions and statements in Python."
      ],
      "metadata": {}
    },
    {
      "cell_type": "markdown",
      "source": [
        "### Common built-in Python data types\n",
        "\n",
        "| English name | Type name | Description | Example |\n",
        "| :--- | :--- | :--- | :--- |\n",
        "| integer | `int` | positive/negative whole numbers | `42` |\n",
        "| floating point number | `float` | real number in decimal form | `3.14159` |\n",
        "| boolean | `bool` | true or false | `True` |\n",
        "| string | `str` | text | `\"I Can Has Cheezburger?\"` |\n",
        "| list | `list` | a collection of objects - mutable & ordered | `['Ali','Xinyi','Miriam']` |\n",
        "| tuple | `tuple` | a collection of objects - immutable & ordered | `('Thursday',6,9,2018)` |\n",
        "| dictionary | `dict` | mapping of key-value pairs | `{'name':'DSCI','code':511,'credits':2}` |\n",
        "| none | `NoneType` | represents no value | `None` |"
      ],
      "metadata": {}
    },
    {
      "cell_type": "markdown",
      "source": [
        "#### Numeric Types"
      ],
      "metadata": {}
    },
    {
      "cell_type": "code",
      "source": [
        "x = 42"
      ],
      "outputs": [],
      "execution_count": 1,
      "metadata": {}
    },
    {
      "cell_type": "code",
      "source": [
        "type(x)"
      ],
      "outputs": [
        {
          "output_type": "execute_result",
          "execution_count": 2,
          "data": {
            "text/plain": "int"
          },
          "metadata": {}
        }
      ],
      "execution_count": 2,
      "metadata": {}
    },
    {
      "cell_type": "code",
      "source": [
        "print(x)"
      ],
      "outputs": [
        {
          "output_type": "stream",
          "name": "stdout",
          "text": [
            "42\n"
          ]
        }
      ],
      "execution_count": 3,
      "metadata": {
        "tags": []
      }
    },
    {
      "cell_type": "code",
      "source": [
        "x # in Jupyter/IPython we don't need to explicitly print for the last line of a cell"
      ],
      "outputs": [
        {
          "output_type": "execute_result",
          "execution_count": 4,
          "data": {
            "text/plain": "42"
          },
          "metadata": {}
        }
      ],
      "execution_count": 4,
      "metadata": {}
    },
    {
      "cell_type": "code",
      "source": [
        "pi = 3.14159"
      ],
      "outputs": [],
      "execution_count": 5,
      "metadata": {}
    },
    {
      "cell_type": "code",
      "source": [
        "print(pi)"
      ],
      "outputs": [
        {
          "output_type": "stream",
          "name": "stdout",
          "text": [
            "3.14159\n"
          ]
        }
      ],
      "execution_count": 6,
      "metadata": {
        "tags": []
      }
    },
    {
      "cell_type": "code",
      "source": [
        "type(pi)"
      ],
      "outputs": [
        {
          "output_type": "execute_result",
          "execution_count": 7,
          "data": {
            "text/plain": "float"
          },
          "metadata": {}
        }
      ],
      "execution_count": 7,
      "metadata": {}
    },
    {
      "cell_type": "code",
      "source": [
        "λ = 2"
      ],
      "outputs": [],
      "execution_count": 8,
      "metadata": {}
    },
    {
      "cell_type": "markdown",
      "source": [
        "#### Arithmetic Operators\n",
        "\n",
        "The syntax for the arithmetic operators are:\n",
        "\n",
        "| Operator | Description |\n",
        "| :---: | :---: |\n",
        "| `+` | addition |\n",
        "| `-` | subtraction |\n",
        "| `*` | multiplication |\n",
        "| `/` | division |\n",
        "| `**` | exponentiation |\n",
        "| `//` | integer division |\n",
        "| `%`  | modulo |\n",
        "\n",
        "Let's apply these operators to numeric types and observe the results."
      ],
      "metadata": {}
    },
    {
      "cell_type": "code",
      "source": [
        "1 + 2 + 3 + 4 + 5"
      ],
      "outputs": [
        {
          "output_type": "execute_result",
          "execution_count": 1,
          "data": {
            "text/plain": "15"
          },
          "metadata": {}
        }
      ],
      "execution_count": 1,
      "metadata": {}
    },
    {
      "cell_type": "code",
      "source": [
        "0.1 + 0.2"
      ],
      "outputs": [
        {
          "output_type": "execute_result",
          "execution_count": 2,
          "data": {
            "text/plain": "0.30000000000000004"
          },
          "metadata": {}
        }
      ],
      "execution_count": 2,
      "metadata": {}
    },
    {
      "cell_type": "markdown",
      "source": [
        "```{tip}\n",
        "From Firas: This is floating point arithmetic. For an explanation of what's going on, [see this tutorial](https://docs.python.org/3/tutorial/floatingpoint.html).\n",
        "```"
      ],
      "metadata": {}
    },
    {
      "cell_type": "code",
      "source": [
        "2 * 3.14159"
      ],
      "outputs": [
        {
          "output_type": "execute_result",
          "execution_count": 11,
          "data": {
            "text/plain": "6.28318"
          },
          "metadata": {}
        }
      ],
      "execution_count": 11,
      "metadata": {}
    },
    {
      "cell_type": "code",
      "source": [
        "2**10"
      ],
      "outputs": [
        {
          "output_type": "execute_result",
          "execution_count": 12,
          "data": {
            "text/plain": "1024"
          },
          "metadata": {}
        }
      ],
      "execution_count": 12,
      "metadata": {}
    },
    {
      "cell_type": "code",
      "source": [
        "type(2**10)"
      ],
      "outputs": [
        {
          "output_type": "execute_result",
          "execution_count": 13,
          "data": {
            "text/plain": "int"
          },
          "metadata": {}
        }
      ],
      "execution_count": 13,
      "metadata": {}
    },
    {
      "cell_type": "code",
      "source": [
        "2.0**10"
      ],
      "outputs": [
        {
          "output_type": "execute_result",
          "execution_count": 14,
          "data": {
            "text/plain": "1024.0"
          },
          "metadata": {}
        }
      ],
      "execution_count": 14,
      "metadata": {}
    },
    {
      "cell_type": "code",
      "source": [
        "int_2 = 2"
      ],
      "outputs": [],
      "execution_count": 15,
      "metadata": {}
    },
    {
      "cell_type": "code",
      "source": [
        "float_2 = 2.0"
      ],
      "outputs": [],
      "execution_count": 16,
      "metadata": {}
    },
    {
      "cell_type": "code",
      "source": [
        "float_2_again = 2."
      ],
      "outputs": [],
      "execution_count": 17,
      "metadata": {}
    },
    {
      "cell_type": "code",
      "source": [],
      "outputs": [],
      "execution_count": null,
      "metadata": {}
    },
    {
      "cell_type": "code",
      "source": [
        "101 / 2"
      ],
      "outputs": [
        {
          "output_type": "execute_result",
          "execution_count": 18,
          "data": {
            "text/plain": "50.5"
          },
          "metadata": {}
        }
      ],
      "execution_count": 18,
      "metadata": {}
    },
    {
      "cell_type": "code",
      "source": [
        "101 // 2 # \"integer division\" - always rounds down"
      ],
      "outputs": [
        {
          "output_type": "execute_result",
          "execution_count": 19,
          "data": {
            "text/plain": "50"
          },
          "metadata": {}
        }
      ],
      "execution_count": 19,
      "metadata": {}
    },
    {
      "cell_type": "code",
      "source": [
        "101 % 2 # \"101 mod 2\", or the remainder when 101 is divided by 2"
      ],
      "outputs": [
        {
          "output_type": "execute_result",
          "execution_count": 20,
          "data": {
            "text/plain": "1"
          },
          "metadata": {}
        }
      ],
      "execution_count": 20,
      "metadata": {}
    },
    {
      "cell_type": "markdown",
      "source": [
        "#### None\n",
        "\n",
        "- `NoneType` is its own type in Python.\n",
        "- It only has one possible value, `None`"
      ],
      "metadata": {}
    },
    {
      "cell_type": "code",
      "source": [
        "x = None"
      ],
      "outputs": [],
      "execution_count": 21,
      "metadata": {}
    },
    {
      "cell_type": "code",
      "source": [
        "print(x)"
      ],
      "outputs": [
        {
          "output_type": "stream",
          "name": "stdout",
          "text": [
            "None\n"
          ]
        }
      ],
      "execution_count": 22,
      "metadata": {
        "tags": []
      }
    },
    {
      "cell_type": "code",
      "source": [
        "type(x)"
      ],
      "outputs": [
        {
          "output_type": "execute_result",
          "execution_count": 23,
          "data": {
            "text/plain": "NoneType"
          },
          "metadata": {}
        }
      ],
      "execution_count": 23,
      "metadata": {}
    },
    {
      "cell_type": "markdown",
      "source": [
        "You may have seen similar things in other languages, like `null` in Java, etc."
      ],
      "metadata": {}
    },
    {
      "cell_type": "markdown",
      "source": [
        "#### Strings\n",
        "\n",
        "- Text is stored as a type called a string. \n",
        "- We think of a string as a sequence of characters. \n",
        "- We write strings as characters enclosed with either:\n",
        "  - single quotes, e.g., `'Hello'` \n",
        "  - double quotes, e.g., `\"Goodbye\"`\n",
        "  - triple single quotes, e.g., `'''Yesterday'''`\n",
        "  - triple double quotes, e.g., `\"\"\"Tomorrow\"\"\"`"
      ],
      "metadata": {}
    },
    {
      "cell_type": "code",
      "source": [
        "my_name = \"Mike Gelbart\""
      ],
      "outputs": [],
      "execution_count": 24,
      "metadata": {}
    },
    {
      "cell_type": "code",
      "source": [
        "print(my_name)"
      ],
      "outputs": [
        {
          "output_type": "stream",
          "name": "stdout",
          "text": [
            "Mike Gelbart\n"
          ]
        }
      ],
      "execution_count": 25,
      "metadata": {
        "tags": []
      }
    },
    {
      "cell_type": "code",
      "source": [
        "type(my_name)"
      ],
      "outputs": [
        {
          "output_type": "execute_result",
          "execution_count": 29,
          "data": {
            "text/plain": "str"
          },
          "metadata": {}
        }
      ],
      "execution_count": 29,
      "metadata": {}
    },
    {
      "cell_type": "code",
      "source": [
        "course = 'DSCI 511'"
      ],
      "outputs": [],
      "execution_count": 31,
      "metadata": {}
    },
    {
      "cell_type": "code",
      "source": [
        "print(course)"
      ],
      "outputs": [
        {
          "output_type": "stream",
          "name": "stdout",
          "text": [
            "DSCI 511\n"
          ]
        }
      ],
      "execution_count": 32,
      "metadata": {}
    },
    {
      "cell_type": "code",
      "source": [
        "type(course)"
      ],
      "outputs": [
        {
          "output_type": "execute_result",
          "execution_count": 33,
          "data": {
            "text/plain": "str"
          },
          "metadata": {}
        }
      ],
      "execution_count": 33,
      "metadata": {}
    },
    {
      "cell_type": "markdown",
      "source": [
        "If the string contains a quotation or apostrophe, we can use double quotes or triple quotes to define the string."
      ],
      "metadata": {}
    },
    {
      "cell_type": "code",
      "source": [
        "sentence = \"It's a rainy day.\""
      ],
      "outputs": [],
      "execution_count": 34,
      "metadata": {}
    },
    {
      "cell_type": "code",
      "source": [
        "print(sentence)"
      ],
      "outputs": [
        {
          "output_type": "stream",
          "name": "stdout",
          "text": [
            "It's a rainy day.\n"
          ]
        }
      ],
      "execution_count": 35,
      "metadata": {}
    },
    {
      "cell_type": "code",
      "source": [
        "type(sentence)"
      ],
      "outputs": [
        {
          "output_type": "execute_result",
          "execution_count": 36,
          "data": {
            "text/plain": "str"
          },
          "metadata": {}
        }
      ],
      "execution_count": 36,
      "metadata": {}
    },
    {
      "cell_type": "code",
      "source": [
        "saying = '''They say: \n",
        "\"It's a rainy day!\"'''"
      ],
      "outputs": [],
      "execution_count": 38,
      "metadata": {}
    },
    {
      "cell_type": "code",
      "source": [
        "print(saying)"
      ],
      "outputs": [
        {
          "output_type": "stream",
          "name": "stdout",
          "text": [
            "They say: \n",
            "\"It's a rainy day!\"\n"
          ]
        }
      ],
      "execution_count": 39,
      "metadata": {}
    },
    {
      "cell_type": "markdown",
      "source": [
        "#### Boolean\n",
        "\n",
        "- The Boolean (`bool`) type has two values: `True` and `False`. "
      ],
      "metadata": {}
    },
    {
      "cell_type": "code",
      "source": [
        "the_truth = True"
      ],
      "outputs": [],
      "execution_count": 40,
      "metadata": {}
    },
    {
      "cell_type": "code",
      "source": [
        "print(the_truth)"
      ],
      "outputs": [
        {
          "output_type": "stream",
          "name": "stdout",
          "text": [
            "True\n"
          ]
        }
      ],
      "execution_count": 41,
      "metadata": {}
    },
    {
      "cell_type": "code",
      "source": [
        "type(the_truth)"
      ],
      "outputs": [
        {
          "output_type": "execute_result",
          "execution_count": 42,
          "data": {
            "text/plain": "bool"
          },
          "metadata": {}
        }
      ],
      "execution_count": 42,
      "metadata": {}
    },
    {
      "cell_type": "code",
      "source": [
        "lies = False"
      ],
      "outputs": [],
      "execution_count": 43,
      "metadata": {}
    },
    {
      "cell_type": "code",
      "source": [
        "print(lies)"
      ],
      "outputs": [
        {
          "output_type": "stream",
          "name": "stdout",
          "text": [
            "False\n"
          ]
        }
      ],
      "execution_count": 44,
      "metadata": {}
    },
    {
      "cell_type": "code",
      "source": [
        "type(lies)"
      ],
      "outputs": [
        {
          "output_type": "execute_result",
          "execution_count": 45,
          "data": {
            "text/plain": "bool"
          },
          "metadata": {}
        }
      ],
      "execution_count": 45,
      "metadata": {}
    },
    {
      "cell_type": "markdown",
      "source": [
        "#### Comparison Operators\n",
        "\n",
        "Compare objects using comparison operators. The result is a Boolean value.\n",
        "\n",
        "| Operator | Description |\n",
        "| :---: | :--- |\n",
        "| `x == y ` | is `x` equal to `y`? |\n",
        "| `x != y` | is `x` not equal to `y`? |\n",
        "| `x > y` | is `x` greater than `y`? |\n",
        "| `x >= y` | is `x` greater than or equal to `y`? |\n",
        "| `x < y` | is `x` less than `y`? |\n",
        "| `x <= y` | is `x` less than or equal to `y`? |\n",
        "| `x is y` | is `x` the same object as `y`? |"
      ],
      "metadata": {}
    },
    {
      "cell_type": "code",
      "source": [
        "2 < 3"
      ],
      "outputs": [
        {
          "output_type": "execute_result",
          "execution_count": 46,
          "data": {
            "text/plain": "True"
          },
          "metadata": {}
        }
      ],
      "execution_count": 46,
      "metadata": {}
    },
    {
      "cell_type": "code",
      "source": [
        "\"Data Science\" != \"Deep Learning\""
      ],
      "outputs": [
        {
          "output_type": "execute_result",
          "execution_count": 47,
          "data": {
            "text/plain": "True"
          },
          "metadata": {}
        }
      ],
      "execution_count": 47,
      "metadata": {}
    },
    {
      "cell_type": "code",
      "source": [
        "2 == \"2\""
      ],
      "outputs": [
        {
          "output_type": "execute_result",
          "execution_count": 48,
          "data": {
            "text/plain": "False"
          },
          "metadata": {}
        }
      ],
      "execution_count": 48,
      "metadata": {}
    },
    {
      "cell_type": "code",
      "source": [
        "2 == 2.0"
      ],
      "outputs": [
        {
          "output_type": "execute_result",
          "execution_count": 49,
          "data": {
            "text/plain": "True"
          },
          "metadata": {}
        }
      ],
      "execution_count": 49,
      "metadata": {}
    },
    {
      "cell_type": "markdown",
      "source": [
        "Note: we will discuss `is` next week."
      ],
      "metadata": {}
    },
    {
      "cell_type": "markdown",
      "source": [
        "Operators on Boolean values.\n",
        "\n",
        "| Operator | Description |\n",
        "| :---: | :--- |\n",
        "|`x and y`| are `x` and `y` both true? |\n",
        "|`x or y` | is at least one of `x` and `y` true? |\n",
        "| `not x` | is `x` false? | "
      ],
      "metadata": {}
    },
    {
      "cell_type": "code",
      "source": [
        "True and True"
      ],
      "outputs": [
        {
          "output_type": "execute_result",
          "execution_count": 51,
          "data": {
            "text/plain": "True"
          },
          "metadata": {}
        }
      ],
      "execution_count": 51,
      "metadata": {}
    },
    {
      "cell_type": "code",
      "source": [
        "True and False"
      ],
      "outputs": [
        {
          "output_type": "execute_result",
          "execution_count": 50,
          "data": {
            "text/plain": "False"
          },
          "metadata": {}
        }
      ],
      "execution_count": 50,
      "metadata": {}
    },
    {
      "cell_type": "code",
      "source": [
        "False or False"
      ],
      "outputs": [
        {
          "output_type": "execute_result",
          "execution_count": 52,
          "data": {
            "text/plain": "False"
          },
          "metadata": {}
        }
      ],
      "execution_count": 52,
      "metadata": {}
    },
    {
      "cell_type": "code",
      "source": [
        "(\"Python 2\" != \"Python 3\") and (2 <= 3)"
      ],
      "outputs": [
        {
          "output_type": "execute_result",
          "execution_count": 53,
          "data": {
            "text/plain": "True"
          },
          "metadata": {}
        }
      ],
      "execution_count": 53,
      "metadata": {}
    },
    {
      "cell_type": "code",
      "source": [
        "not True"
      ],
      "outputs": [
        {
          "output_type": "execute_result",
          "execution_count": 54,
          "data": {
            "text/plain": "False"
          },
          "metadata": {}
        }
      ],
      "execution_count": 54,
      "metadata": {}
    },
    {
      "cell_type": "code",
      "source": [
        "not not True"
      ],
      "outputs": [
        {
          "output_type": "execute_result",
          "execution_count": 55,
          "data": {
            "text/plain": "True"
          },
          "metadata": {}
        }
      ],
      "execution_count": 55,
      "metadata": {}
    },
    {
      "cell_type": "markdown",
      "source": [
        "#### Casting\n",
        "\n",
        "- Sometimes (but rarely) we need to explicitly **cast** a value from one type to another.\n",
        "- Python tries to do something reasonable, or throws an error if it has no ideas."
      ],
      "metadata": {}
    },
    {
      "cell_type": "code",
      "source": [
        "x = int(5.0)\n",
        "x"
      ],
      "outputs": [
        {
          "output_type": "execute_result",
          "execution_count": 56,
          "data": {
            "text/plain": "5"
          },
          "metadata": {}
        }
      ],
      "execution_count": 56,
      "metadata": {}
    },
    {
      "cell_type": "code",
      "source": [
        "type(x)"
      ],
      "outputs": [
        {
          "output_type": "execute_result",
          "execution_count": 57,
          "data": {
            "text/plain": "int"
          },
          "metadata": {}
        }
      ],
      "execution_count": 57,
      "metadata": {}
    },
    {
      "cell_type": "code",
      "source": [
        "x = str(5.0)\n",
        "x"
      ],
      "outputs": [
        {
          "output_type": "execute_result",
          "execution_count": 58,
          "data": {
            "text/plain": "'5.0'"
          },
          "metadata": {}
        }
      ],
      "execution_count": 58,
      "metadata": {}
    },
    {
      "cell_type": "code",
      "source": [
        "type(x)"
      ],
      "outputs": [
        {
          "output_type": "execute_result",
          "execution_count": 59,
          "data": {
            "text/plain": "str"
          },
          "metadata": {}
        }
      ],
      "execution_count": 59,
      "metadata": {}
    },
    {
      "cell_type": "code",
      "source": [
        "str(5.0) == 5.0"
      ],
      "outputs": [
        {
          "output_type": "execute_result",
          "execution_count": 60,
          "data": {
            "text/plain": "False"
          },
          "metadata": {}
        }
      ],
      "execution_count": 60,
      "metadata": {}
    },
    {
      "cell_type": "code",
      "source": [
        "# list(5.0) # there is no reasonable thing to do here"
      ],
      "outputs": [],
      "execution_count": 1,
      "metadata": {
        "execution": {
          "shell.execute_reply": "2021-01-10T01:58:33.594Z",
          "iopub.status.busy": "2021-01-10T01:58:33.749Z",
          "iopub.execute_input": "2021-01-10T01:58:33.810Z",
          "iopub.status.idle": "2021-01-10T01:58:33.909Z"
        }
      }
    },
    {
      "cell_type": "code",
      "source": [
        "int(5.3)"
      ],
      "outputs": [
        {
          "output_type": "execute_result",
          "execution_count": 62,
          "data": {
            "text/plain": "5"
          },
          "metadata": {}
        }
      ],
      "execution_count": 62,
      "metadata": {}
    },
    {
      "cell_type": "markdown",
      "source": [
        "## Lists and Tuples (20 min)\n",
        "\n",
        "- Lists and tuples allow us to store multiple things (\"elements\") in a single object.\n",
        "- The elements are _ordered_."
      ],
      "metadata": {}
    },
    {
      "cell_type": "code",
      "source": [
        "my_list = [1, 2, \"THREE\", 4, 0.5]"
      ],
      "outputs": [],
      "execution_count": 63,
      "metadata": {}
    },
    {
      "cell_type": "code",
      "source": [
        "print(my_list)"
      ],
      "outputs": [
        {
          "output_type": "stream",
          "name": "stdout",
          "text": [
            "[1, 2, 'THREE', 4, 0.5]\n"
          ]
        }
      ],
      "execution_count": 65,
      "metadata": {}
    },
    {
      "cell_type": "code",
      "source": [
        "type(my_list)"
      ],
      "outputs": [
        {
          "output_type": "execute_result",
          "execution_count": 66,
          "data": {
            "text/plain": "list"
          },
          "metadata": {}
        }
      ],
      "execution_count": 66,
      "metadata": {}
    },
    {
      "cell_type": "markdown",
      "source": [
        "You can get the length of the list with `len`:"
      ],
      "metadata": {}
    },
    {
      "cell_type": "code",
      "source": [
        "len(my_list)"
      ],
      "outputs": [
        {
          "output_type": "execute_result",
          "execution_count": 67,
          "data": {
            "text/plain": "5"
          },
          "metadata": {}
        }
      ],
      "execution_count": 67,
      "metadata": {}
    },
    {
      "cell_type": "code",
      "source": [
        "today = (1, 2, \"THREE\", 4, 0.5)"
      ],
      "outputs": [],
      "execution_count": 68,
      "metadata": {}
    },
    {
      "cell_type": "code",
      "source": [
        "print(today)"
      ],
      "outputs": [
        {
          "output_type": "stream",
          "name": "stdout",
          "text": [
            "(1, 2, 'THREE', 4, 0.5)\n"
          ]
        }
      ],
      "execution_count": 69,
      "metadata": {}
    },
    {
      "cell_type": "code",
      "source": [
        "type(today)"
      ],
      "outputs": [
        {
          "output_type": "execute_result",
          "execution_count": 70,
          "data": {
            "text/plain": "tuple"
          },
          "metadata": {}
        }
      ],
      "execution_count": 70,
      "metadata": {}
    },
    {
      "cell_type": "code",
      "source": [
        "len(today)"
      ],
      "outputs": [
        {
          "output_type": "execute_result",
          "execution_count": 71,
          "data": {
            "text/plain": "5"
          },
          "metadata": {}
        }
      ],
      "execution_count": 71,
      "metadata": {}
    },
    {
      "cell_type": "markdown",
      "source": [
        "### Indexing and Slicing Sequences\n",
        "\n",
        "- We can access values inside a list, tuple, or string using the backet syntax. \n",
        "- Python uses zero-based indexing, which means the first element of the list is in position 0, not position 1. \n",
        "- Sadly, R uses one-based indexing, so get ready to be confused."
      ],
      "metadata": {}
    },
    {
      "cell_type": "code",
      "source": [
        "my_list"
      ],
      "outputs": [
        {
          "output_type": "execute_result",
          "execution_count": 72,
          "data": {
            "text/plain": "[1, 2, 'THREE', 4, 0.5]"
          },
          "metadata": {}
        }
      ],
      "execution_count": 72,
      "metadata": {}
    },
    {
      "cell_type": "code",
      "source": [
        "my_list[0]"
      ],
      "outputs": [
        {
          "output_type": "execute_result",
          "execution_count": 73,
          "data": {
            "text/plain": "1"
          },
          "metadata": {}
        }
      ],
      "execution_count": 73,
      "metadata": {}
    },
    {
      "cell_type": "code",
      "source": [
        "my_list[4]"
      ],
      "outputs": [
        {
          "output_type": "execute_result",
          "execution_count": 74,
          "data": {
            "text/plain": "0.5"
          },
          "metadata": {}
        }
      ],
      "execution_count": 74,
      "metadata": {}
    },
    {
      "cell_type": "code",
      "source": [
        "my_list[5]"
      ],
      "outputs": [
        {
          "output_type": "error",
          "ename": "IndexError",
          "evalue": "list index out of range",
          "traceback": [
            "\u001b[0;31m---------------------------------------------------------------------------\u001b[0m",
            "\u001b[0;31mIndexError\u001b[0m                                Traceback (most recent call last)",
            "\u001b[0;32m<ipython-input-75-075ca585e721>\u001b[0m in \u001b[0;36m<module>\u001b[0;34m\u001b[0m\n\u001b[0;32m----> 1\u001b[0;31m \u001b[0mmy_list\u001b[0m\u001b[0;34m[\u001b[0m\u001b[0;36m5\u001b[0m\u001b[0;34m]\u001b[0m\u001b[0;34m\u001b[0m\u001b[0;34m\u001b[0m\u001b[0m\n\u001b[0m",
            "\u001b[0;31mIndexError\u001b[0m: list index out of range"
          ]
        }
      ],
      "execution_count": 75,
      "metadata": {}
    },
    {
      "cell_type": "code",
      "source": [
        "today[4]"
      ],
      "outputs": [
        {
          "output_type": "execute_result",
          "execution_count": 77,
          "data": {
            "text/plain": "0.5"
          },
          "metadata": {}
        }
      ],
      "execution_count": 77,
      "metadata": {}
    },
    {
      "cell_type": "markdown",
      "source": [
        "We use negative indices to count backwards from the end of the list."
      ],
      "metadata": {}
    },
    {
      "cell_type": "code",
      "source": [
        "my_list"
      ],
      "outputs": [
        {
          "output_type": "execute_result",
          "execution_count": 80,
          "data": {
            "text/plain": "[1, 2, 'THREE', 4, 0.5]"
          },
          "metadata": {}
        }
      ],
      "execution_count": 80,
      "metadata": {}
    },
    {
      "cell_type": "code",
      "source": [
        "my_list[-1]"
      ],
      "outputs": [
        {
          "output_type": "execute_result",
          "execution_count": 81,
          "data": {
            "text/plain": "0.5"
          },
          "metadata": {}
        }
      ],
      "execution_count": 81,
      "metadata": {}
    },
    {
      "cell_type": "markdown",
      "source": [
        "We use the colon `:` to access a subsequence. This is called \"slicing\"."
      ],
      "metadata": {}
    },
    {
      "cell_type": "code",
      "source": [
        "my_list[1:4]"
      ],
      "outputs": [
        {
          "output_type": "execute_result",
          "execution_count": 84,
          "data": {
            "text/plain": "[2, 'THREE', 4]"
          },
          "metadata": {}
        }
      ],
      "execution_count": 84,
      "metadata": {}
    },
    {
      "cell_type": "markdown",
      "source": [
        "- Above: note that the start is inclusive and the end is exclusive.\n",
        "- So `my_list[1:3]` fetches elements 1 and 2, but not 3.\n",
        "- In other words, it gets the 2nd and 3rd elements in the list."
      ],
      "metadata": {}
    },
    {
      "cell_type": "markdown",
      "source": [
        "We can omit the start or end:"
      ],
      "metadata": {}
    },
    {
      "cell_type": "code",
      "source": [
        "my_list[:3]"
      ],
      "outputs": [
        {
          "output_type": "execute_result",
          "execution_count": 85,
          "data": {
            "text/plain": "[1, 2, 'THREE']"
          },
          "metadata": {}
        }
      ],
      "execution_count": 85,
      "metadata": {}
    },
    {
      "cell_type": "code",
      "source": [
        "my_list[3:]"
      ],
      "outputs": [
        {
          "output_type": "execute_result",
          "execution_count": 86,
          "data": {
            "text/plain": "[4, 0.5]"
          },
          "metadata": {}
        }
      ],
      "execution_count": 86,
      "metadata": {}
    },
    {
      "cell_type": "code",
      "source": [
        "my_list[:] # *almost* same as my_list - more details next week"
      ],
      "outputs": [
        {
          "output_type": "execute_result",
          "execution_count": 87,
          "data": {
            "text/plain": "[1, 2, 'THREE', 4, 0.5]"
          },
          "metadata": {}
        }
      ],
      "execution_count": 87,
      "metadata": {}
    },
    {
      "cell_type": "markdown",
      "source": [
        "Strings behave the same as lists and tuples when it comes to indexing and slicing."
      ],
      "metadata": {}
    },
    {
      "cell_type": "code",
      "source": [
        "alphabet = \"abcdefghijklmnopqrstuvwxyz\""
      ],
      "outputs": [],
      "execution_count": 88,
      "metadata": {}
    },
    {
      "cell_type": "code",
      "source": [
        "alphabet[0]"
      ],
      "outputs": [
        {
          "output_type": "execute_result",
          "execution_count": 89,
          "data": {
            "text/plain": "'a'"
          },
          "metadata": {}
        }
      ],
      "execution_count": 89,
      "metadata": {}
    },
    {
      "cell_type": "code",
      "source": [
        "alphabet[-1]"
      ],
      "outputs": [
        {
          "output_type": "execute_result",
          "execution_count": 90,
          "data": {
            "text/plain": "'z'"
          },
          "metadata": {}
        }
      ],
      "execution_count": 90,
      "metadata": {}
    },
    {
      "cell_type": "code",
      "source": [
        "alphabet[-3]"
      ],
      "outputs": [
        {
          "output_type": "execute_result",
          "execution_count": 91,
          "data": {
            "text/plain": "'x'"
          },
          "metadata": {}
        }
      ],
      "execution_count": 91,
      "metadata": {}
    },
    {
      "cell_type": "code",
      "source": [
        "alphabet[:5]"
      ],
      "outputs": [
        {
          "output_type": "execute_result",
          "execution_count": 92,
          "data": {
            "text/plain": "'abcde'"
          },
          "metadata": {}
        }
      ],
      "execution_count": 92,
      "metadata": {}
    },
    {
      "cell_type": "code",
      "source": [
        "alphabet[12:20]"
      ],
      "outputs": [
        {
          "output_type": "execute_result",
          "execution_count": 93,
          "data": {
            "text/plain": "'mnopqrst'"
          },
          "metadata": {}
        }
      ],
      "execution_count": 93,
      "metadata": {}
    },
    {
      "cell_type": "markdown",
      "source": [
        "#### List Methods\n",
        "\n",
        "- A list is an object and it has methods for interacting with its data. \n",
        "- For example, `list.append(item)` appends an item to the end of the list. \n",
        "- See the documentation for more [list methods](https://docs.python.org/3/tutorial/datastructures.html#more-on-lists)."
      ],
      "metadata": {}
    },
    {
      "cell_type": "code",
      "source": [
        "primes = [2,3,5,7,11]\n",
        "primes"
      ],
      "outputs": [
        {
          "output_type": "execute_result",
          "execution_count": 94,
          "data": {
            "text/plain": "[2, 3, 5, 7, 11]"
          },
          "metadata": {}
        }
      ],
      "execution_count": 94,
      "metadata": {}
    },
    {
      "cell_type": "code",
      "source": [
        "len(primes)"
      ],
      "outputs": [
        {
          "output_type": "execute_result",
          "execution_count": 95,
          "data": {
            "text/plain": "5"
          },
          "metadata": {}
        }
      ],
      "execution_count": 95,
      "metadata": {}
    },
    {
      "cell_type": "code",
      "source": [
        "primes.append(13)"
      ],
      "outputs": [],
      "execution_count": 114,
      "metadata": {}
    },
    {
      "cell_type": "code",
      "source": [
        "primes"
      ],
      "outputs": [
        {
          "output_type": "execute_result",
          "execution_count": 115,
          "data": {
            "text/plain": "[2,\n 3,\n 5,\n 7,\n 11,\n 13,\n 13,\n 13,\n 13,\n 13,\n 13,\n 13,\n 13,\n 13,\n 13,\n 13,\n 13,\n 13,\n 13,\n 13,\n 13,\n 13]"
          },
          "metadata": {}
        }
      ],
      "execution_count": 115,
      "metadata": {}
    },
    {
      "cell_type": "code",
      "source": [
        "len(primes)"
      ],
      "outputs": [
        {
          "output_type": "execute_result",
          "execution_count": 116,
          "data": {
            "text/plain": "22"
          },
          "metadata": {}
        }
      ],
      "execution_count": 116,
      "metadata": {}
    },
    {
      "cell_type": "code",
      "source": [
        "max(primes)"
      ],
      "outputs": [
        {
          "output_type": "execute_result",
          "execution_count": 117,
          "data": {
            "text/plain": "13"
          },
          "metadata": {}
        }
      ],
      "execution_count": 117,
      "metadata": {}
    },
    {
      "cell_type": "code",
      "source": [
        "min(primes)"
      ],
      "outputs": [
        {
          "output_type": "execute_result",
          "execution_count": 118,
          "data": {
            "text/plain": "2"
          },
          "metadata": {}
        }
      ],
      "execution_count": 118,
      "metadata": {}
    },
    {
      "cell_type": "code",
      "source": [
        "sum(primes)"
      ],
      "outputs": [
        {
          "output_type": "execute_result",
          "execution_count": 119,
          "data": {
            "text/plain": "249"
          },
          "metadata": {}
        }
      ],
      "execution_count": 119,
      "metadata": {}
    },
    {
      "cell_type": "code",
      "source": [
        "[1,2,3] + [\"Hello\", 7]"
      ],
      "outputs": [
        {
          "output_type": "execute_result",
          "execution_count": 120,
          "data": {
            "text/plain": "[1, 2, 3, 'Hello', 7]"
          },
          "metadata": {}
        }
      ],
      "execution_count": 120,
      "metadata": {}
    },
    {
      "cell_type": "markdown",
      "source": [
        "#### Sets\n",
        "\n",
        "- Another built-in Python data type is the `set`, which stores an _un-ordered_ list of _unique_ items.\n",
        "- More on sets in DSCI 512."
      ],
      "metadata": {}
    },
    {
      "cell_type": "code",
      "source": [
        "s = {2,3,5,11}\n",
        "s"
      ],
      "outputs": [
        {
          "output_type": "execute_result",
          "execution_count": 121,
          "data": {
            "text/plain": "{2, 3, 5, 11}"
          },
          "metadata": {}
        }
      ],
      "execution_count": 121,
      "metadata": {}
    },
    {
      "cell_type": "code",
      "source": [
        "{1,2,3} == {3,2,1}"
      ],
      "outputs": [
        {
          "output_type": "execute_result",
          "execution_count": 122,
          "data": {
            "text/plain": "True"
          },
          "metadata": {}
        }
      ],
      "execution_count": 122,
      "metadata": {}
    },
    {
      "cell_type": "code",
      "source": [
        "[1,2,3] == [3,2,1]"
      ],
      "outputs": [
        {
          "output_type": "execute_result",
          "execution_count": 123,
          "data": {
            "text/plain": "False"
          },
          "metadata": {}
        }
      ],
      "execution_count": 123,
      "metadata": {}
    },
    {
      "cell_type": "code",
      "source": [
        "s.add(2) # does nothing\n",
        "s"
      ],
      "outputs": [
        {
          "output_type": "execute_result",
          "execution_count": 124,
          "data": {
            "text/plain": "{2, 3, 5, 11}"
          },
          "metadata": {}
        }
      ],
      "execution_count": 124,
      "metadata": {}
    },
    {
      "cell_type": "code",
      "source": [
        "s[0]"
      ],
      "outputs": [
        {
          "output_type": "error",
          "ename": "TypeError",
          "evalue": "'set' object is not subscriptable",
          "traceback": [
            "\u001b[0;31m---------------------------------------------------------------------------\u001b[0m",
            "\u001b[0;31mTypeError\u001b[0m                                 Traceback (most recent call last)",
            "\u001b[0;32m<ipython-input-125-c9c96910e542>\u001b[0m in \u001b[0;36m<module>\u001b[0;34m\u001b[0m\n\u001b[0;32m----> 1\u001b[0;31m \u001b[0ms\u001b[0m\u001b[0;34m[\u001b[0m\u001b[0;36m0\u001b[0m\u001b[0;34m]\u001b[0m\u001b[0;34m\u001b[0m\u001b[0;34m\u001b[0m\u001b[0m\n\u001b[0m",
            "\u001b[0;31mTypeError\u001b[0m: 'set' object is not subscriptable"
          ]
        }
      ],
      "execution_count": 125,
      "metadata": {}
    },
    {
      "cell_type": "markdown",
      "source": [
        "Above: throws an error because elements are not ordered."
      ],
      "metadata": {}
    },
    {
      "cell_type": "markdown",
      "source": [
        "#### Mutable vs. Immutable Types\n",
        "\n",
        "- Strings and tuples are immutable types which means they cannot be modified. \n",
        "- Lists are mutable and we can assign new values for its various entries. \n",
        "- This is the main difference between lists and tuples."
      ],
      "metadata": {}
    },
    {
      "cell_type": "code",
      "source": [
        "names_list = [\"Indiana\",\"Fang\",\"Linsey\"]\n",
        "names_list"
      ],
      "outputs": [
        {
          "output_type": "execute_result",
          "execution_count": 126,
          "data": {
            "text/plain": "['Indiana', 'Fang', 'Linsey']"
          },
          "metadata": {}
        }
      ],
      "execution_count": 126,
      "metadata": {}
    },
    {
      "cell_type": "code",
      "source": [
        "names_list[0] = \"Cool guy\"\n",
        "names_list"
      ],
      "outputs": [
        {
          "output_type": "execute_result",
          "execution_count": 128,
          "data": {
            "text/plain": "['Cool guy', 'Fang', 'Linsey']"
          },
          "metadata": {}
        }
      ],
      "execution_count": 128,
      "metadata": {}
    },
    {
      "cell_type": "code",
      "source": [
        "names_tuple = (\"Indiana\",\"Fang\",\"Linsey\")\n",
        "names_tuple"
      ],
      "outputs": [
        {
          "output_type": "execute_result",
          "execution_count": 129,
          "data": {
            "text/plain": "('Indiana', 'Fang', 'Linsey')"
          },
          "metadata": {}
        }
      ],
      "execution_count": 129,
      "metadata": {}
    },
    {
      "cell_type": "code",
      "source": [
        "names_tuple[0] = \"Not cool guy\""
      ],
      "outputs": [
        {
          "output_type": "error",
          "ename": "TypeError",
          "evalue": "'tuple' object does not support item assignment",
          "traceback": [
            "\u001b[0;31m---------------------------------------------------------------------------\u001b[0m",
            "\u001b[0;31mTypeError\u001b[0m                                 Traceback (most recent call last)",
            "\u001b[0;32m<ipython-input-130-bd6a1b77b220>\u001b[0m in \u001b[0;36m<module>\u001b[0;34m\u001b[0m\n\u001b[0;32m----> 1\u001b[0;31m \u001b[0mnames_tuple\u001b[0m\u001b[0;34m[\u001b[0m\u001b[0;36m0\u001b[0m\u001b[0;34m]\u001b[0m \u001b[0;34m=\u001b[0m \u001b[0;34m\"Not cool guy\"\u001b[0m\u001b[0;34m\u001b[0m\u001b[0;34m\u001b[0m\u001b[0m\n\u001b[0m",
            "\u001b[0;31mTypeError\u001b[0m: 'tuple' object does not support item assignment"
          ]
        }
      ],
      "execution_count": 130,
      "metadata": {}
    },
    {
      "cell_type": "markdown",
      "source": [
        "Same goes for strings. Once defined we cannot modifiy the characters of the string."
      ],
      "metadata": {}
    },
    {
      "cell_type": "code",
      "source": [
        "my_name = \"Mike\""
      ],
      "outputs": [],
      "execution_count": 131,
      "metadata": {}
    },
    {
      "cell_type": "code",
      "source": [
        "my_name[-1] = 'q'"
      ],
      "outputs": [
        {
          "output_type": "error",
          "ename": "TypeError",
          "evalue": "'str' object does not support item assignment",
          "traceback": [
            "\u001b[0;31m---------------------------------------------------------------------------\u001b[0m",
            "\u001b[0;31mTypeError\u001b[0m                                 Traceback (most recent call last)",
            "\u001b[0;32m<ipython-input-132-94c4564b18e3>\u001b[0m in \u001b[0;36m<module>\u001b[0;34m\u001b[0m\n\u001b[0;32m----> 1\u001b[0;31m \u001b[0mmy_name\u001b[0m\u001b[0;34m[\u001b[0m\u001b[0;34m-\u001b[0m\u001b[0;36m1\u001b[0m\u001b[0;34m]\u001b[0m \u001b[0;34m=\u001b[0m \u001b[0;34m'q'\u001b[0m\u001b[0;34m\u001b[0m\u001b[0;34m\u001b[0m\u001b[0m\n\u001b[0m",
            "\u001b[0;31mTypeError\u001b[0m: 'str' object does not support item assignment"
          ]
        }
      ],
      "execution_count": 132,
      "metadata": {}
    },
    {
      "cell_type": "code",
      "source": [
        "x = ([1,2,3],5)"
      ],
      "outputs": [],
      "execution_count": 137,
      "metadata": {}
    },
    {
      "cell_type": "code",
      "source": [
        "x[1] = 7"
      ],
      "outputs": [
        {
          "output_type": "error",
          "ename": "TypeError",
          "evalue": "'tuple' object does not support item assignment",
          "traceback": [
            "\u001b[0;31m---------------------------------------------------------------------------\u001b[0m",
            "\u001b[0;31mTypeError\u001b[0m                                 Traceback (most recent call last)",
            "\u001b[0;32m<ipython-input-138-415ce6bd0126>\u001b[0m in \u001b[0;36m<module>\u001b[0;34m\u001b[0m\n\u001b[0;32m----> 1\u001b[0;31m \u001b[0mx\u001b[0m\u001b[0;34m[\u001b[0m\u001b[0;36m1\u001b[0m\u001b[0;34m]\u001b[0m \u001b[0;34m=\u001b[0m \u001b[0;36m7\u001b[0m\u001b[0;34m\u001b[0m\u001b[0;34m\u001b[0m\u001b[0m\n\u001b[0m",
            "\u001b[0;31mTypeError\u001b[0m: 'tuple' object does not support item assignment"
          ]
        }
      ],
      "execution_count": 138,
      "metadata": {}
    },
    {
      "cell_type": "code",
      "source": [
        "x"
      ],
      "outputs": [
        {
          "output_type": "execute_result",
          "execution_count": 139,
          "data": {
            "text/plain": "([1, 2, 3], 5)"
          },
          "metadata": {}
        }
      ],
      "execution_count": 139,
      "metadata": {}
    },
    {
      "cell_type": "code",
      "source": [
        "x[0][1] = 4"
      ],
      "outputs": [],
      "execution_count": 140,
      "metadata": {}
    },
    {
      "cell_type": "code",
      "source": [
        "x"
      ],
      "outputs": [
        {
          "output_type": "execute_result",
          "execution_count": 141,
          "data": {
            "text/plain": "([1, 4, 3], 5)"
          },
          "metadata": {}
        }
      ],
      "execution_count": 141,
      "metadata": {}
    },
    {
      "cell_type": "markdown",
      "source": [
        "## Break (5 min)"
      ],
      "metadata": {}
    },
    {
      "cell_type": "markdown",
      "source": [
        "## String Methods (5 min)\n",
        "\n",
        "- There are various useful string methods in Python.\n",
        "- MDS-CL students will soon be the experts we can go to for help!"
      ],
      "metadata": {}
    },
    {
      "cell_type": "code",
      "source": [
        "all_caps = \"HOW ARE YOU TODAY?\"\n",
        "print(all_caps)"
      ],
      "outputs": [
        {
          "output_type": "stream",
          "name": "stdout",
          "text": [
            "HOW ARE YOU TODAY?\n"
          ]
        }
      ],
      "execution_count": 142,
      "metadata": {}
    },
    {
      "cell_type": "code",
      "source": [
        "new_str = all_caps.lower()\n",
        "new_str"
      ],
      "outputs": [
        {
          "output_type": "execute_result",
          "execution_count": 145,
          "data": {
            "text/plain": "'how are you today?'"
          },
          "metadata": {}
        }
      ],
      "execution_count": 145,
      "metadata": {}
    },
    {
      "cell_type": "markdown",
      "source": [
        "Note that the method lower doesn't change the original string but rather returns a new one.\n"
      ],
      "metadata": {}
    },
    {
      "cell_type": "code",
      "source": [
        "all_caps"
      ],
      "outputs": [
        {
          "output_type": "execute_result",
          "execution_count": 146,
          "data": {
            "text/plain": "'HOW ARE YOU TODAY?'"
          },
          "metadata": {}
        }
      ],
      "execution_count": 146,
      "metadata": {}
    },
    {
      "cell_type": "markdown",
      "source": [
        "There are *many* string methods. Check out the [documentation](https://docs.python.org/3/library/stdtypes.html#string-methods)."
      ],
      "metadata": {}
    },
    {
      "cell_type": "code",
      "source": [
        "all_caps.split()"
      ],
      "outputs": [
        {
          "output_type": "execute_result",
          "execution_count": 147,
          "data": {
            "text/plain": "['HOW', 'ARE', 'YOU', 'TODAY?']"
          },
          "metadata": {}
        }
      ],
      "execution_count": 147,
      "metadata": {}
    },
    {
      "cell_type": "code",
      "source": [
        "all_caps.count(\"O\")"
      ],
      "outputs": [
        {
          "output_type": "execute_result",
          "execution_count": 148,
          "data": {
            "text/plain": "3"
          },
          "metadata": {}
        }
      ],
      "execution_count": 148,
      "metadata": {}
    },
    {
      "cell_type": "markdown",
      "source": [
        "One can explicitly cast a string to a list:"
      ],
      "metadata": {}
    },
    {
      "cell_type": "code",
      "source": [
        "caps_list = list(all_caps)\n",
        "caps_list"
      ],
      "outputs": [
        {
          "output_type": "execute_result",
          "execution_count": 151,
          "data": {
            "text/plain": "['H',\n 'O',\n 'W',\n ' ',\n 'A',\n 'R',\n 'E',\n ' ',\n 'Y',\n 'O',\n 'U',\n ' ',\n 'T',\n 'O',\n 'D',\n 'A',\n 'Y',\n '?']"
          },
          "metadata": {}
        }
      ],
      "execution_count": 151,
      "metadata": {}
    },
    {
      "cell_type": "code",
      "source": [
        "len(all_caps)"
      ],
      "outputs": [
        {
          "output_type": "execute_result",
          "execution_count": 152,
          "data": {
            "text/plain": "18"
          },
          "metadata": {}
        }
      ],
      "execution_count": 152,
      "metadata": {}
    },
    {
      "cell_type": "code",
      "source": [
        "len(caps_list)"
      ],
      "outputs": [
        {
          "output_type": "execute_result",
          "execution_count": 153,
          "data": {
            "text/plain": "18"
          },
          "metadata": {}
        }
      ],
      "execution_count": 153,
      "metadata": {}
    },
    {
      "cell_type": "markdown",
      "source": [
        "### String formatting\n",
        "\n",
        "- Python has ways of creating strings by \"filling in the blanks\" and formatting them nicely. \n",
        "- There are a few ways of doing this. See [here](https://realpython.com/python-string-formatting/) and [here](https://stackoverflow.com/questions/5082452/string-formatting-vs-format) for some discussion."
      ],
      "metadata": {}
    },
    {
      "cell_type": "markdown",
      "source": [
        "Old formatting style (borrowed from the C programming language):"
      ],
      "metadata": {}
    },
    {
      "cell_type": "code",
      "source": [
        "template = \"Hello, my name is %s. I am %.2f years old.\""
      ],
      "outputs": [],
      "execution_count": 154,
      "metadata": {}
    },
    {
      "cell_type": "code",
      "source": [
        "template % (\"Newborn Baby\", 4/12)"
      ],
      "outputs": [
        {
          "output_type": "execute_result",
          "execution_count": 155,
          "data": {
            "text/plain": "'Hello, my name is Newborn Baby. I am 0.33 years old.'"
          },
          "metadata": {}
        }
      ],
      "execution_count": 155,
      "metadata": {}
    },
    {
      "cell_type": "markdown",
      "source": [
        "New formatting style (see [documentation](https://docs.python.org/3/library/stdtypes.html#str.format)):"
      ],
      "metadata": {}
    },
    {
      "cell_type": "code",
      "source": [
        "template_new = \"Hello, my name is {}. I am {:.2f} years old.\""
      ],
      "outputs": [],
      "execution_count": 156,
      "metadata": {}
    },
    {
      "cell_type": "code",
      "source": [
        "template_new.format('Newborn Baby', 4/12)"
      ],
      "outputs": [
        {
          "output_type": "execute_result",
          "execution_count": 157,
          "data": {
            "text/plain": "'Hello, my name is Newborn Baby. I am 0.33 years old.'"
          },
          "metadata": {}
        }
      ],
      "execution_count": 157,
      "metadata": {}
    },
    {
      "cell_type": "markdown",
      "source": [
        "Newer formatting style (see [here](https://realpython.com/python-f-strings/#f-strings-a-new-and-improved-way-to-format-strings-in-python)) - note the `f` before the start of the string:"
      ],
      "metadata": {}
    },
    {
      "cell_type": "code",
      "source": [
        "name = \"Newborn Baby\"\n",
        "age = 4/12\n",
        "template_new = f'Hello, my name is {name}. I am {age:.2f} years old.'\n",
        "template_new"
      ],
      "outputs": [
        {
          "output_type": "execute_result",
          "execution_count": 3,
          "data": {
            "text/plain": "'Hello, my name is Newborn Baby. I am 0.33 years old.'"
          },
          "metadata": {}
        }
      ],
      "execution_count": 3,
      "metadata": {}
    },
    {
      "cell_type": "markdown",
      "source": [
        "## Dictionaries (10 min)\n",
        "\n",
        "A dictionary is a mapping between key-values pairs."
      ],
      "metadata": {}
    },
    {
      "cell_type": "code",
      "source": [
        "house = {'bedrooms': 3, 'bathrooms': 2, 'city': 'Vancouver', 'price': 2499999, 'date_sold': (1,3,2015)}\n",
        "\n",
        "condo = {'bedrooms' : 2, \n",
        "         'bathrooms': 1, \n",
        "         'city'     : 'Burnaby', \n",
        "         'price'    : 699999, \n",
        "         'date_sold': (27,8,2011)\n",
        "        }"
      ],
      "outputs": [],
      "execution_count": 158,
      "metadata": {}
    },
    {
      "cell_type": "markdown",
      "source": [
        "We can access a specific field of a dictionary with square brackets:"
      ],
      "metadata": {}
    },
    {
      "cell_type": "code",
      "source": [
        "house['price']"
      ],
      "outputs": [
        {
          "output_type": "execute_result",
          "execution_count": 159,
          "data": {
            "text/plain": "2499999"
          },
          "metadata": {}
        }
      ],
      "execution_count": 159,
      "metadata": {}
    },
    {
      "cell_type": "code",
      "source": [
        "condo['city']"
      ],
      "outputs": [
        {
          "output_type": "execute_result",
          "execution_count": 160,
          "data": {
            "text/plain": "'Burnaby'"
          },
          "metadata": {}
        }
      ],
      "execution_count": 160,
      "metadata": {}
    },
    {
      "cell_type": "markdown",
      "source": [
        "We can also edit dictionaries (they are mutable):"
      ],
      "metadata": {}
    },
    {
      "cell_type": "code",
      "source": [
        "condo['price'] = 5 # price already in the dict\n",
        "condo"
      ],
      "outputs": [
        {
          "output_type": "execute_result",
          "execution_count": 162,
          "data": {
            "text/plain": "{'bedrooms': 2,\n 'bathrooms': 1,\n 'city': 'Burnaby',\n 'price': 5,\n 'date_sold': (27, 8, 2011)}"
          },
          "metadata": {}
        }
      ],
      "execution_count": 162,
      "metadata": {}
    },
    {
      "cell_type": "code",
      "source": [
        "condo['flooring'] = \"wood\""
      ],
      "outputs": [],
      "execution_count": 163,
      "metadata": {}
    },
    {
      "cell_type": "code",
      "source": [
        "condo"
      ],
      "outputs": [
        {
          "output_type": "execute_result",
          "execution_count": 164,
          "data": {
            "text/plain": "{'bedrooms': 2,\n 'bathrooms': 1,\n 'city': 'Burnaby',\n 'price': 5,\n 'date_sold': (27, 8, 2011),\n 'flooring': 'wood'}"
          },
          "metadata": {}
        }
      ],
      "execution_count": 164,
      "metadata": {}
    },
    {
      "cell_type": "markdown",
      "source": [
        "We can delete fields entirely (though I rarely use this):"
      ],
      "metadata": {}
    },
    {
      "cell_type": "code",
      "source": [
        "del condo[\"city\"]"
      ],
      "outputs": [],
      "execution_count": 165,
      "metadata": {}
    },
    {
      "cell_type": "code",
      "source": [
        "condo"
      ],
      "outputs": [
        {
          "output_type": "execute_result",
          "execution_count": 166,
          "data": {
            "text/plain": "{'bedrooms': 2,\n 'bathrooms': 1,\n 'price': 5,\n 'date_sold': (27, 8, 2011),\n 'flooring': 'wood'}"
          },
          "metadata": {}
        }
      ],
      "execution_count": 166,
      "metadata": {}
    },
    {
      "cell_type": "code",
      "source": [
        "condo[5] = 443345"
      ],
      "outputs": [],
      "execution_count": 167,
      "metadata": {}
    },
    {
      "cell_type": "code",
      "source": [
        "condo"
      ],
      "outputs": [
        {
          "output_type": "execute_result",
          "execution_count": 168,
          "data": {
            "text/plain": "{'bedrooms': 2,\n 'bathrooms': 1,\n 'price': 5,\n 'date_sold': (27, 8, 2011),\n 'flooring': 'wood',\n 5: 443345}"
          },
          "metadata": {}
        }
      ],
      "execution_count": 168,
      "metadata": {}
    },
    {
      "cell_type": "code",
      "source": [
        "condo[(1,2,3)] = 777\n",
        "condo"
      ],
      "outputs": [
        {
          "output_type": "execute_result",
          "execution_count": 169,
          "data": {
            "text/plain": "{'bedrooms': 2,\n 'bathrooms': 1,\n 'price': 5,\n 'date_sold': (27, 8, 2011),\n 'flooring': 'wood',\n 5: 443345,\n (1, 2, 3): 777}"
          },
          "metadata": {}
        }
      ],
      "execution_count": 169,
      "metadata": {}
    },
    {
      "cell_type": "code",
      "source": [
        "condo[\"nothere\"]"
      ],
      "outputs": [
        {
          "output_type": "error",
          "ename": "KeyError",
          "evalue": "'nothere'",
          "traceback": [
            "\u001b[0;31m---------------------------------------------------------------------------\u001b[0m",
            "\u001b[0;31mKeyError\u001b[0m                                  Traceback (most recent call last)",
            "\u001b[0;32m<ipython-input-170-aec15e89a3c8>\u001b[0m in \u001b[0;36m<module>\u001b[0;34m\u001b[0m\n\u001b[0;32m----> 1\u001b[0;31m \u001b[0mcondo\u001b[0m\u001b[0;34m[\u001b[0m\u001b[0;34m\"nothere\"\u001b[0m\u001b[0;34m]\u001b[0m\u001b[0;34m\u001b[0m\u001b[0;34m\u001b[0m\u001b[0m\n\u001b[0m",
            "\u001b[0;31mKeyError\u001b[0m: 'nothere'"
          ]
        }
      ],
      "execution_count": 170,
      "metadata": {}
    },
    {
      "cell_type": "markdown",
      "source": [
        "A sometimes useful trick about default values:"
      ],
      "metadata": {}
    },
    {
      "cell_type": "code",
      "source": [
        "condo[\"bedrooms\"]"
      ],
      "outputs": [
        {
          "output_type": "execute_result",
          "execution_count": 171,
          "data": {
            "text/plain": "2"
          },
          "metadata": {}
        }
      ],
      "execution_count": 171,
      "metadata": {}
    },
    {
      "cell_type": "markdown",
      "source": [
        "is shorthand for"
      ],
      "metadata": {}
    },
    {
      "cell_type": "code",
      "source": [
        "condo.get(\"bedrooms\")"
      ],
      "outputs": [
        {
          "output_type": "execute_result",
          "execution_count": 172,
          "data": {
            "text/plain": "2"
          },
          "metadata": {}
        }
      ],
      "execution_count": 172,
      "metadata": {}
    },
    {
      "cell_type": "markdown",
      "source": [
        "With this syntax you can also use default values:"
      ],
      "metadata": {}
    },
    {
      "cell_type": "code",
      "source": [
        "condo.get(\"bedrooms\", \"unknown\")"
      ],
      "outputs": [
        {
          "output_type": "execute_result",
          "execution_count": 173,
          "data": {
            "text/plain": "2"
          },
          "metadata": {}
        }
      ],
      "execution_count": 173,
      "metadata": {}
    },
    {
      "cell_type": "code",
      "source": [
        "condo.get(\"fireplaces\", \"unknown\")"
      ],
      "outputs": [
        {
          "output_type": "execute_result",
          "execution_count": 174,
          "data": {
            "text/plain": "'unknown'"
          },
          "metadata": {}
        }
      ],
      "execution_count": 174,
      "metadata": {}
    },
    {
      "cell_type": "markdown",
      "source": [
        "- A common operation is finding the maximum dictionary key by value.\n",
        "- There are a few ways to do this, see [this StackOverflow page](https://stackoverflow.com/questions/268272/getting-key-with-maximum-value-in-dictionary).\n",
        "- One way of doing it:"
      ],
      "metadata": {}
    },
    {
      "cell_type": "code",
      "source": [
        "max(word_lengths, key=word_lengths.get)"
      ],
      "outputs": [
        {
          "output_type": "error",
          "ename": "NameError",
          "evalue": "name 'word_lengths' is not defined",
          "traceback": [
            "\u001b[0;31m---------------------------------------------------------------------------\u001b[0m",
            "\u001b[0;31mNameError\u001b[0m                                 Traceback (most recent call last)",
            "\u001b[0;32m<ipython-input-175-4aea82f80396>\u001b[0m in \u001b[0;36m<module>\u001b[0;34m\u001b[0m\n\u001b[0;32m----> 1\u001b[0;31m \u001b[0mmax\u001b[0m\u001b[0;34m(\u001b[0m\u001b[0mword_lengths\u001b[0m\u001b[0;34m,\u001b[0m \u001b[0mkey\u001b[0m\u001b[0;34m=\u001b[0m\u001b[0mword_lengths\u001b[0m\u001b[0;34m.\u001b[0m\u001b[0mget\u001b[0m\u001b[0;34m)\u001b[0m\u001b[0;34m\u001b[0m\u001b[0;34m\u001b[0m\u001b[0m\n\u001b[0m",
            "\u001b[0;31mNameError\u001b[0m: name 'word_lengths' is not defined"
          ]
        }
      ],
      "execution_count": 175,
      "metadata": {}
    },
    {
      "cell_type": "markdown",
      "source": [
        "We saw `word_lengths.get` above - it is saying that we should call this function on each key of the dict to decide how to sort."
      ],
      "metadata": {}
    },
    {
      "cell_type": "markdown",
      "source": [
        "### Empties"
      ],
      "metadata": {}
    },
    {
      "cell_type": "code",
      "source": [
        "lst = list() # empty list\n",
        "lst"
      ],
      "outputs": [
        {
          "output_type": "execute_result",
          "execution_count": 176,
          "data": {
            "text/plain": "[]"
          },
          "metadata": {}
        }
      ],
      "execution_count": 176,
      "metadata": {}
    },
    {
      "cell_type": "code",
      "source": [
        "lst = [] # empty list\n",
        "lst"
      ],
      "outputs": [
        {
          "output_type": "execute_result",
          "execution_count": 177,
          "data": {
            "text/plain": "[]"
          },
          "metadata": {}
        }
      ],
      "execution_count": 177,
      "metadata": {}
    },
    {
      "cell_type": "code",
      "source": [
        "tup = tuple() # empty tuple\n",
        "tup"
      ],
      "outputs": [
        {
          "output_type": "execute_result",
          "execution_count": 178,
          "data": {
            "text/plain": "()"
          },
          "metadata": {}
        }
      ],
      "execution_count": 178,
      "metadata": {}
    },
    {
      "cell_type": "code",
      "source": [
        "tup = () # empty tuple\n",
        "tup"
      ],
      "outputs": [
        {
          "output_type": "execute_result",
          "execution_count": 179,
          "data": {
            "text/plain": "()"
          },
          "metadata": {}
        }
      ],
      "execution_count": 179,
      "metadata": {}
    },
    {
      "cell_type": "code",
      "source": [
        "dic = dict() # empty dict\n",
        "dic"
      ],
      "outputs": [
        {
          "output_type": "execute_result",
          "execution_count": 180,
          "data": {
            "text/plain": "{}"
          },
          "metadata": {}
        }
      ],
      "execution_count": 180,
      "metadata": {}
    },
    {
      "cell_type": "code",
      "source": [
        "dic = {} # empty dict\n",
        "dic"
      ],
      "outputs": [
        {
          "output_type": "execute_result",
          "execution_count": 181,
          "data": {
            "text/plain": "{}"
          },
          "metadata": {}
        }
      ],
      "execution_count": 181,
      "metadata": {}
    },
    {
      "cell_type": "code",
      "source": [
        "st = set() # emtpy set\n",
        "st"
      ],
      "outputs": [
        {
          "output_type": "execute_result",
          "execution_count": 182,
          "data": {
            "text/plain": "set()"
          },
          "metadata": {}
        }
      ],
      "execution_count": 182,
      "metadata": {}
    },
    {
      "cell_type": "code",
      "source": [
        "st = {} # NOT an empty set!\n",
        "type(st)"
      ],
      "outputs": [
        {
          "output_type": "execute_result",
          "execution_count": 183,
          "data": {
            "text/plain": "dict"
          },
          "metadata": {}
        }
      ],
      "execution_count": 183,
      "metadata": {}
    },
    {
      "cell_type": "code",
      "source": [
        "st = {1}\n",
        "type(st)"
      ],
      "outputs": [
        {
          "output_type": "execute_result",
          "execution_count": 184,
          "data": {
            "text/plain": "set"
          },
          "metadata": {}
        }
      ],
      "execution_count": 184,
      "metadata": {}
    },
    {
      "cell_type": "markdown",
      "source": [
        "## Conditionals (10 min)"
      ],
      "metadata": {}
    },
    {
      "cell_type": "markdown",
      "source": [
        "- [Conditional statements](https://docs.python.org/3/tutorial/controlflow.html) allow us to write programs where only certain blocks of code are executed depending on the state of the program. \n",
        "- Let's look at some examples and take note of the keywords, syntax and indentation. \n",
        "- Check out the [Python documentation](https://docs.python.org/3/tutorial/controlflow.html) and [Think Python (Chapter 5)](http://greenteapress.com/thinkpython/html/thinkpython006.html) for more information about conditional execution."
      ],
      "metadata": {}
    },
    {
      "cell_type": "code",
      "source": [
        "name = input(\"What's your name?\")\n",
        "\n",
        "if name.lower() == 'mike':\n",
        "    print(\"That's my name too!\")\n",
        "elif name.lower() == 'santa':\n",
        "    print(\"That's a funny name.\")\n",
        "else:\n",
        "    print(\"Hello {}! That's a cool name.\".format(name))\n",
        "\n",
        "    print('Nice to meet you!')"
      ],
      "outputs": [
        {
          "output_type": "stream",
          "name": "stdout",
          "text": [
            "What's your name?mike\n",
            "That's my name too!\n"
          ]
        }
      ],
      "execution_count": 189,
      "metadata": {}
    },
    {
      "cell_type": "code",
      "source": [
        "bool(None)"
      ],
      "outputs": [
        {
          "output_type": "execute_result",
          "execution_count": 190,
          "data": {
            "text/plain": "False"
          },
          "metadata": {}
        }
      ],
      "execution_count": 190,
      "metadata": {}
    },
    {
      "cell_type": "markdown",
      "source": [
        "The main points to notice:\n",
        "\n",
        "* Use keywords `if`, `elif` and `else`\n",
        "* The colon `:` ends each conditional expression\n",
        "* Indentation (by 4 empty space) defines code blocks\n",
        "* In an `if` statement, the first block whose conditional statement returns `True` is executed and the program exits the `if` block\n",
        "* `if` statements don't necessarily need `elif` or `else`\n",
        "* `elif` lets us check several conditions\n",
        "* `else` lets us evaluate a default block if all other conditions are `False`\n",
        "* the end of the entire `if` statement is where the indentation returns to the same level as the first `if` keyword"
      ],
      "metadata": {}
    },
    {
      "cell_type": "markdown",
      "source": [
        "If statements can also be **nested** inside of one another:"
      ],
      "metadata": {}
    },
    {
      "cell_type": "code",
      "source": [
        "name = input(\"What's your name?\")\n",
        "\n",
        "if name.lower() == 'mike':\n",
        "    print(\"That's my name too!\")\n",
        "elif name.lower() == 'santa':\n",
        "    print(\"That's a funny name.\")\n",
        "else:\n",
        "    print(\"Hello {0}! That's a cool name.\".format(name))\n",
        "    if name.lower().startswith(\"super\"):\n",
        "        print(\"Do you have superpowers?\")\n",
        "\n",
        "print('Nice to meet you!')"
      ],
      "outputs": [
        {
          "output_type": "stream",
          "name": "stdout",
          "text": [
            "What's your name?supersam\n",
            "Hello supersam! That's a cool name.\n",
            "Do you have superpowers?\n",
            "Nice to meet you!\n"
          ]
        }
      ],
      "execution_count": 192,
      "metadata": {}
    },
    {
      "cell_type": "markdown",
      "source": [
        "### Inline if/else"
      ],
      "metadata": {}
    },
    {
      "cell_type": "code",
      "source": [
        "words = [\"the\", \"list\", \"of\", \"words\"]\n",
        "\n",
        "x = \"long list\" if len(words) > 10 else \"short list\"\n",
        "x"
      ],
      "outputs": [
        {
          "output_type": "execute_result",
          "execution_count": 193,
          "data": {
            "text/plain": "'short list'"
          },
          "metadata": {}
        }
      ],
      "execution_count": 193,
      "metadata": {
        "collapsed": false,
        "jupyter": {
          "outputs_hidden": false
        }
      }
    },
    {
      "cell_type": "code",
      "source": [
        "if len(words) > 10:\n",
        "    x = \"long list\"\n",
        "else:\n",
        "    x = \"short list\""
      ],
      "outputs": [],
      "execution_count": 194,
      "metadata": {}
    },
    {
      "cell_type": "code",
      "source": [
        "x"
      ],
      "outputs": [
        {
          "output_type": "execute_result",
          "execution_count": 195,
          "data": {
            "text/plain": "'short list'"
          },
          "metadata": {}
        }
      ],
      "execution_count": 195,
      "metadata": {}
    },
    {
      "cell_type": "markdown",
      "source": [
        "#### (optional) short-circruiting"
      ],
      "metadata": {}
    },
    {
      "cell_type": "code",
      "source": [
        "BLAH # not defined"
      ],
      "outputs": [],
      "execution_count": null,
      "metadata": {}
    },
    {
      "cell_type": "code",
      "source": [
        "True or BLAH"
      ],
      "outputs": [],
      "execution_count": null,
      "metadata": {}
    },
    {
      "cell_type": "code",
      "source": [
        "True and BLAH"
      ],
      "outputs": [],
      "execution_count": null,
      "metadata": {}
    },
    {
      "cell_type": "code",
      "source": [
        "False and BLAH"
      ],
      "outputs": [],
      "execution_count": null,
      "metadata": {}
    }
  ],
  "metadata": {
    "kernelspec": {
      "display_name": "Python 3",
      "language": "python",
      "name": "python3"
    },
    "language_info": {
      "name": "python",
      "version": "3.8.3",
      "mimetype": "text/x-python",
      "codemirror_mode": {
        "name": "ipython",
        "version": 3
      },
      "pygments_lexer": "ipython3",
      "nbconvert_exporter": "python",
      "file_extension": ".py"
    },
    "toc-showmarkdowntxt": false,
    "toc-showtags": false,
    "nteract": {
      "version": "0.27.0"
    }
  },
  "nbformat": 4,
  "nbformat_minor": 4
}